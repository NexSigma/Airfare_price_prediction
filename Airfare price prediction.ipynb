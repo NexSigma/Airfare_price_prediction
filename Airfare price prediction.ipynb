{
 "cells": [
  {
   "cell_type": "markdown",
   "id": "0bbeeb46",
   "metadata": {},
   "source": [
    "# Airfare price prediction\n"
   ]
  },
  {
   "cell_type": "code",
   "execution_count": 1,
   "id": "626ea884",
   "metadata": {},
   "outputs": [],
   "source": [
    "import numpy as np\n",
    "import pandas as pd\n",
    "import warnings\n",
    "warnings.filterwarnings('ignore')\n",
    "from sklearn.preprocessing import StandardScaler\n",
    "from sklearn.metrics import accuracy_score, f1_score,classification_report,precision_score,recall_score\n",
    "from sklearn.svm import SVC\n",
    "import matplotlib.pyplot as plt \n",
    "import seaborn as sns\n",
    "df = pd.read_excel(\"G:\\Projects\\Airfare price prediction\\Datatrain.xlsx\")\n"
   ]
  },
  {
   "cell_type": "code",
   "execution_count": 2,
   "id": "d7fc5383",
   "metadata": {},
   "outputs": [],
   "source": [
    "df = pd.DataFrame(df)"
   ]
  },
  {
   "cell_type": "code",
   "execution_count": 3,
   "id": "2dfdf0f3",
   "metadata": {
    "scrolled": false
   },
   "outputs": [
    {
     "name": "stdout",
     "output_type": "stream",
     "text": [
      "<class 'pandas.core.frame.DataFrame'>\n",
      "RangeIndex: 10683 entries, 0 to 10682\n",
      "Data columns (total 11 columns):\n",
      " #   Column           Non-Null Count  Dtype \n",
      "---  ------           --------------  ----- \n",
      " 0   Airline          10683 non-null  object\n",
      " 1   Date_of_Journey  10683 non-null  object\n",
      " 2   Source           10683 non-null  object\n",
      " 3   Destination      10683 non-null  object\n",
      " 4   Route            10682 non-null  object\n",
      " 5   Dep_Time         10683 non-null  object\n",
      " 6   Arrival_Time     10683 non-null  object\n",
      " 7   Duration         10683 non-null  object\n",
      " 8   Total_Stops      10682 non-null  object\n",
      " 9   Additional_Info  10683 non-null  object\n",
      " 10  Price            10683 non-null  int64 \n",
      "dtypes: int64(1), object(10)\n",
      "memory usage: 918.2+ KB\n"
     ]
    }
   ],
   "source": [
    "df.info()"
   ]
  },
  {
   "cell_type": "code",
   "execution_count": 4,
   "id": "c8e2f6cd",
   "metadata": {},
   "outputs": [
    {
     "data": {
      "text/plain": [
       "Airline            0\n",
       "Date_of_Journey    0\n",
       "Source             0\n",
       "Destination        0\n",
       "Route              1\n",
       "Dep_Time           0\n",
       "Arrival_Time       0\n",
       "Duration           0\n",
       "Total_Stops        1\n",
       "Additional_Info    0\n",
       "Price              0\n",
       "dtype: int64"
      ]
     },
     "execution_count": 4,
     "metadata": {},
     "output_type": "execute_result"
    }
   ],
   "source": [
    "df.isnull().sum()"
   ]
  },
  {
   "cell_type": "code",
   "execution_count": 5,
   "id": "81fb15b5",
   "metadata": {},
   "outputs": [],
   "source": [
    "#Creating list of catagory columns \n",
    "category = ['Airline','Source','Destination','Additional_Info']"
   ]
  },
  {
   "cell_type": "code",
   "execution_count": 6,
   "id": "8e98273b",
   "metadata": {},
   "outputs": [
    {
     "name": "stdout",
     "output_type": "stream",
     "text": [
      "Airline ['IndiGo' 'Air India' 'Jet Airways' 'SpiceJet' 'Multiple carriers' 'GoAir'\n",
      " 'Vistara' 'Air Asia' 'Vistara Premium economy' 'Jet Airways Business'\n",
      " 'Multiple carriers Premium economy' 'Trujet']\n",
      "-----------------------------------------------------\n",
      "Source ['Banglore' 'Kolkata' 'Delhi' 'Chennai' 'Mumbai']\n",
      "-----------------------------------------------------\n",
      "Destination ['New Delhi' 'Banglore' 'Cochin' 'Kolkata' 'Delhi' 'Hyderabad']\n",
      "-----------------------------------------------------\n",
      "Additional_Info ['No info' 'In-flight meal not included' 'No check-in baggage included'\n",
      " '1 Short layover' 'No Info' '1 Long layover' 'Change airports'\n",
      " 'Business class' 'Red-eye flight' '2 Long layover']\n",
      "-----------------------------------------------------\n"
     ]
    }
   ],
   "source": [
    "# checking unique values in Airlines columns\n",
    "for i in category:\n",
    "    print(i, df[i].unique())\n",
    "    print('-----------------------------------------------------')"
   ]
  },
  {
   "cell_type": "code",
   "execution_count": 7,
   "id": "11aa34da",
   "metadata": {},
   "outputs": [],
   "source": [
    "df.Date_of_Journey = df.Date_of_Journey.str.split('/')"
   ]
  },
  {
   "cell_type": "code",
   "execution_count": 8,
   "id": "f9cbec3f",
   "metadata": {},
   "outputs": [
    {
     "data": {
      "text/plain": [
       "0        [24, 03, 2019]\n",
       "1         [1, 05, 2019]\n",
       "2         [9, 06, 2019]\n",
       "3        [12, 05, 2019]\n",
       "4        [01, 03, 2019]\n",
       "              ...      \n",
       "10678     [9, 04, 2019]\n",
       "10679    [27, 04, 2019]\n",
       "10680    [27, 04, 2019]\n",
       "10681    [01, 03, 2019]\n",
       "10682     [9, 05, 2019]\n",
       "Name: Date_of_Journey, Length: 10683, dtype: object"
      ]
     },
     "execution_count": 8,
     "metadata": {},
     "output_type": "execute_result"
    }
   ],
   "source": [
    "df.Date_of_Journey"
   ]
  },
  {
   "cell_type": "code",
   "execution_count": 9,
   "id": "fb3a1584",
   "metadata": {},
   "outputs": [],
   "source": [
    "df['Date'] = df.Date_of_Journey.str[0]\n",
    "df['Month'] = df.Date_of_Journey.str[1]\n",
    "df['Year'] = df.Date_of_Journey.str[2]"
   ]
  },
  {
   "cell_type": "code",
   "execution_count": 10,
   "id": "da7a853a",
   "metadata": {},
   "outputs": [
    {
     "data": {
      "text/plain": [
       "array(['non-stop', '2 stops', '1 stop', '3 stops', nan, '4 stops'],\n",
       "      dtype=object)"
      ]
     },
     "execution_count": 10,
     "metadata": {},
     "output_type": "execute_result"
    }
   ],
   "source": [
    "df.Total_Stops.unique()"
   ]
  },
  {
   "cell_type": "code",
   "execution_count": 11,
   "id": "cee1ee25",
   "metadata": {},
   "outputs": [],
   "source": [
    "df = df.astype({'Route': str})"
   ]
  },
  {
   "cell_type": "code",
   "execution_count": 12,
   "id": "d534fc59",
   "metadata": {},
   "outputs": [],
   "source": [
    "df.Route = df.Route.str.split('→')"
   ]
  },
  {
   "cell_type": "code",
   "execution_count": 13,
   "id": "064eb384",
   "metadata": {},
   "outputs": [],
   "source": [
    "df['City1'] = df.Route.str[0]\n",
    "df['City2'] = df.Route.str[1]\n",
    "df['City3'] = df.Route.str[2]\n",
    "df['City4'] = df.Route.str[3]\n",
    "df['City5'] = df.Route.str[4]\n",
    "df['City6'] = df.Route.str[5]"
   ]
  },
  {
   "cell_type": "code",
   "execution_count": 14,
   "id": "6899fba5",
   "metadata": {},
   "outputs": [],
   "source": [
    "#treating time column \n",
    "\n",
    "df.Dep_Time = df.Dep_Time.str.split(':')"
   ]
  },
  {
   "cell_type": "code",
   "execution_count": 15,
   "id": "3e455a51",
   "metadata": {},
   "outputs": [],
   "source": [
    "df['Dep_Time_Hour'] = df.Dep_Time.str[0]\n",
    "df['Dep_Time_Min'] = df.Dep_Time.str[1]"
   ]
  },
  {
   "cell_type": "code",
   "execution_count": 16,
   "id": "ee159a57",
   "metadata": {},
   "outputs": [],
   "source": [
    "#Treating the arrival time column \n",
    "\n",
    "df.Arrival_Time = df.Arrival_Time.str.split(' ')"
   ]
  },
  {
   "cell_type": "code",
   "execution_count": 17,
   "id": "cf3d7e8d",
   "metadata": {},
   "outputs": [],
   "source": [
    "df['Arrival_date'] = df.Arrival_Time.str[1]"
   ]
  },
  {
   "cell_type": "code",
   "execution_count": 18,
   "id": "925dc001",
   "metadata": {},
   "outputs": [],
   "source": [
    "df['Time_Of_Arrival'] = df.Arrival_Time.str[0]"
   ]
  },
  {
   "cell_type": "code",
   "execution_count": 19,
   "id": "d767fa89",
   "metadata": {},
   "outputs": [],
   "source": [
    "df['Time_Of_Arrival'] = df.Time_Of_Arrival.str.split(':')"
   ]
  },
  {
   "cell_type": "code",
   "execution_count": 20,
   "id": "6ec0a4b6",
   "metadata": {},
   "outputs": [],
   "source": [
    "df['Arrival_Time_Hour'] = df.Time_Of_Arrival.str[0]\n",
    "df['Arrival_Time_Min'] = df.Time_Of_Arrival.str[1]"
   ]
  },
  {
   "cell_type": "code",
   "execution_count": 21,
   "id": "c2401d61",
   "metadata": {},
   "outputs": [],
   "source": [
    "# Treating the duration column \n",
    "\n",
    "df['Duration'] = df.Duration.str.split(' ')"
   ]
  },
  {
   "cell_type": "code",
   "execution_count": 22,
   "id": "5c16567f",
   "metadata": {},
   "outputs": [],
   "source": [
    "df['Travel_hours'] = df.Duration.str[0]"
   ]
  },
  {
   "cell_type": "code",
   "execution_count": 23,
   "id": "a47f57c8",
   "metadata": {},
   "outputs": [],
   "source": [
    "df['Travel_hours'] = df['Travel_hours'].str.split('h')"
   ]
  },
  {
   "cell_type": "code",
   "execution_count": 24,
   "id": "2ee3b54e",
   "metadata": {},
   "outputs": [],
   "source": [
    "df['Travel_hours'] = df['Travel_hours'].str[0]"
   ]
  },
  {
   "cell_type": "code",
   "execution_count": 25,
   "id": "a77e1253",
   "metadata": {},
   "outputs": [],
   "source": [
    "df.Travel_hours = df.Travel_hours"
   ]
  },
  {
   "cell_type": "code",
   "execution_count": 26,
   "id": "785800e0",
   "metadata": {},
   "outputs": [],
   "source": [
    "df['Travel_mins'] = df.Duration.str[1]"
   ]
  },
  {
   "cell_type": "code",
   "execution_count": 27,
   "id": "99363d47",
   "metadata": {},
   "outputs": [],
   "source": [
    "df.Travel_mins = df.Travel_mins.str.split('m')"
   ]
  },
  {
   "cell_type": "code",
   "execution_count": 28,
   "id": "e8ac2e49",
   "metadata": {},
   "outputs": [],
   "source": [
    "df.Travel_mins = df.Travel_mins.str[0]"
   ]
  },
  {
   "cell_type": "code",
   "execution_count": 29,
   "id": "44a55a71",
   "metadata": {},
   "outputs": [],
   "source": [
    "#Treating the total Stops columns \n",
    "\n",
    "df.Total_Stops.replace('non-stop','0',inplace = True)"
   ]
  },
  {
   "cell_type": "code",
   "execution_count": 30,
   "id": "c09e0212",
   "metadata": {},
   "outputs": [],
   "source": [
    "df.Total_Stops = df.Total_Stops.str.split(' ')"
   ]
  },
  {
   "cell_type": "code",
   "execution_count": 31,
   "id": "4a3dc8f9",
   "metadata": {},
   "outputs": [],
   "source": [
    "df.Total_Stops = df.Total_Stops.str[0]"
   ]
  },
  {
   "cell_type": "code",
   "execution_count": 32,
   "id": "91ce435a",
   "metadata": {},
   "outputs": [
    {
     "data": {
      "text/plain": [
       "array(['No info', 'In-flight meal not included',\n",
       "       'No check-in baggage included', '1 Short layover', 'No Info',\n",
       "       '1 Long layover', 'Change airports', 'Business class',\n",
       "       'Red-eye flight', '2 Long layover'], dtype=object)"
      ]
     },
     "execution_count": 32,
     "metadata": {},
     "output_type": "execute_result"
    }
   ],
   "source": [
    "#Exploring the Additional info column\n",
    "\n",
    "df.Additional_Info.unique()"
   ]
  },
  {
   "cell_type": "code",
   "execution_count": 33,
   "id": "f722551f",
   "metadata": {},
   "outputs": [],
   "source": [
    "df.Additional_Info.replace('No Info', 'No info', inplace = True)"
   ]
  },
  {
   "cell_type": "markdown",
   "id": "df7371ca",
   "metadata": {},
   "source": [
    "# Replace the missing values "
   ]
  },
  {
   "cell_type": "code",
   "execution_count": 34,
   "id": "6ae3f806",
   "metadata": {
    "scrolled": true
   },
   "outputs": [
    {
     "data": {
      "text/plain": [
       "Airline                  0\n",
       "Date_of_Journey          0\n",
       "Source                   0\n",
       "Destination              0\n",
       "Route                    0\n",
       "Dep_Time                 0\n",
       "Arrival_Time             0\n",
       "Duration                 0\n",
       "Total_Stops              1\n",
       "Additional_Info          0\n",
       "Price                    0\n",
       "Date                     0\n",
       "Month                    0\n",
       "Year                     0\n",
       "City1                    0\n",
       "City2                    1\n",
       "City3                 3492\n",
       "City4                 9117\n",
       "City5                10637\n",
       "City6                10682\n",
       "Dep_Time_Hour            0\n",
       "Dep_Time_Min             0\n",
       "Arrival_date          6348\n",
       "Time_Of_Arrival          0\n",
       "Arrival_Time_Hour        0\n",
       "Arrival_Time_Min         0\n",
       "Travel_hours             0\n",
       "Travel_mins           1032\n",
       "dtype: int64"
      ]
     },
     "execution_count": 34,
     "metadata": {},
     "output_type": "execute_result"
    }
   ],
   "source": [
    "df.isnull().sum()"
   ]
  },
  {
   "cell_type": "code",
   "execution_count": 35,
   "id": "21709e8a",
   "metadata": {
    "scrolled": true
   },
   "outputs": [
    {
     "data": {
      "text/html": [
       "<div>\n",
       "<style scoped>\n",
       "    .dataframe tbody tr th:only-of-type {\n",
       "        vertical-align: middle;\n",
       "    }\n",
       "\n",
       "    .dataframe tbody tr th {\n",
       "        vertical-align: top;\n",
       "    }\n",
       "\n",
       "    .dataframe thead th {\n",
       "        text-align: right;\n",
       "    }\n",
       "</style>\n",
       "<table border=\"1\" class=\"dataframe\">\n",
       "  <thead>\n",
       "    <tr style=\"text-align: right;\">\n",
       "      <th></th>\n",
       "      <th>Airline</th>\n",
       "      <th>Date_of_Journey</th>\n",
       "      <th>Source</th>\n",
       "      <th>Destination</th>\n",
       "      <th>Route</th>\n",
       "      <th>Dep_Time</th>\n",
       "      <th>Arrival_Time</th>\n",
       "      <th>Duration</th>\n",
       "      <th>Total_Stops</th>\n",
       "      <th>Additional_Info</th>\n",
       "      <th>...</th>\n",
       "      <th>City5</th>\n",
       "      <th>City6</th>\n",
       "      <th>Dep_Time_Hour</th>\n",
       "      <th>Dep_Time_Min</th>\n",
       "      <th>Arrival_date</th>\n",
       "      <th>Time_Of_Arrival</th>\n",
       "      <th>Arrival_Time_Hour</th>\n",
       "      <th>Arrival_Time_Min</th>\n",
       "      <th>Travel_hours</th>\n",
       "      <th>Travel_mins</th>\n",
       "    </tr>\n",
       "  </thead>\n",
       "  <tbody>\n",
       "  </tbody>\n",
       "</table>\n",
       "<p>0 rows × 28 columns</p>\n",
       "</div>"
      ],
      "text/plain": [
       "Empty DataFrame\n",
       "Columns: [Airline, Date_of_Journey, Source, Destination, Route, Dep_Time, Arrival_Time, Duration, Total_Stops, Additional_Info, Price, Date, Month, Year, City1, City2, City3, City4, City5, City6, Dep_Time_Hour, Dep_Time_Min, Arrival_date, Time_Of_Arrival, Arrival_Time_Hour, Arrival_Time_Min, Travel_hours, Travel_mins]\n",
       "Index: []\n",
       "\n",
       "[0 rows x 28 columns]"
      ]
     },
     "execution_count": 35,
     "metadata": {},
     "output_type": "execute_result"
    }
   ],
   "source": [
    "df[df['City1'].isnull()]"
   ]
  },
  {
   "cell_type": "code",
   "execution_count": 36,
   "id": "6de37daf",
   "metadata": {},
   "outputs": [],
   "source": [
    "df['City3'].fillna('None', inplace = True)"
   ]
  },
  {
   "cell_type": "code",
   "execution_count": 37,
   "id": "92578dca",
   "metadata": {},
   "outputs": [],
   "source": [
    "df['Arrival_date'].fillna(df['Date'], inplace = True)"
   ]
  },
  {
   "cell_type": "code",
   "execution_count": 38,
   "id": "7b26d877",
   "metadata": {},
   "outputs": [],
   "source": [
    "df['Travel_mins'].fillna(0, inplace = True)"
   ]
  },
  {
   "cell_type": "code",
   "execution_count": 39,
   "id": "ef5c5663",
   "metadata": {
    "scrolled": true
   },
   "outputs": [
    {
     "name": "stdout",
     "output_type": "stream",
     "text": [
      "<class 'pandas.core.frame.DataFrame'>\n",
      "RangeIndex: 10683 entries, 0 to 10682\n",
      "Data columns (total 28 columns):\n",
      " #   Column             Non-Null Count  Dtype \n",
      "---  ------             --------------  ----- \n",
      " 0   Airline            10683 non-null  object\n",
      " 1   Date_of_Journey    10683 non-null  object\n",
      " 2   Source             10683 non-null  object\n",
      " 3   Destination        10683 non-null  object\n",
      " 4   Route              10683 non-null  object\n",
      " 5   Dep_Time           10683 non-null  object\n",
      " 6   Arrival_Time       10683 non-null  object\n",
      " 7   Duration           10683 non-null  object\n",
      " 8   Total_Stops        10682 non-null  object\n",
      " 9   Additional_Info    10683 non-null  object\n",
      " 10  Price              10683 non-null  int64 \n",
      " 11  Date               10683 non-null  object\n",
      " 12  Month              10683 non-null  object\n",
      " 13  Year               10683 non-null  object\n",
      " 14  City1              10683 non-null  object\n",
      " 15  City2              10682 non-null  object\n",
      " 16  City3              10683 non-null  object\n",
      " 17  City4              1566 non-null   object\n",
      " 18  City5              46 non-null     object\n",
      " 19  City6              1 non-null      object\n",
      " 20  Dep_Time_Hour      10683 non-null  object\n",
      " 21  Dep_Time_Min       10683 non-null  object\n",
      " 22  Arrival_date       10683 non-null  object\n",
      " 23  Time_Of_Arrival    10683 non-null  object\n",
      " 24  Arrival_Time_Hour  10683 non-null  object\n",
      " 25  Arrival_Time_Min   10683 non-null  object\n",
      " 26  Travel_hours       10683 non-null  object\n",
      " 27  Travel_mins        10683 non-null  object\n",
      "dtypes: int64(1), object(27)\n",
      "memory usage: 2.3+ MB\n"
     ]
    }
   ],
   "source": [
    "df.info()"
   ]
  },
  {
   "cell_type": "code",
   "execution_count": 40,
   "id": "d2e8c812",
   "metadata": {
    "scrolled": true
   },
   "outputs": [
    {
     "name": "stdout",
     "output_type": "stream",
     "text": [
      "object\n",
      "        Airline Date_of_Journey    Source Destination  \\\n",
      "9182  Air India  [01, 03, 2019]  Banglore   New Delhi   \n",
      "\n",
      "                                         Route  Dep_Time      Arrival_Time  \\\n",
      "9182  [BLR ,  CCU ,  BBI ,  HYD ,  VGA ,  DEL]  [05, 50]  [11:20, 02, Mar]   \n",
      "\n",
      "        Duration Total_Stops  Additional_Info  ...  City5 City6 Dep_Time_Hour  \\\n",
      "9182  [29h, 30m]           4  Change airports  ...   VGA    DEL            05   \n",
      "\n",
      "     Dep_Time_Min Arrival_date Time_Of_Arrival Arrival_Time_Hour  \\\n",
      "9182           50           02        [11, 20]                11   \n",
      "\n",
      "     Arrival_Time_Min Travel_hours Travel_mins  \n",
      "9182               20           29          30  \n",
      "\n",
      "[1 rows x 28 columns]\n"
     ]
    },
    {
     "data": {
      "text/plain": [
       "dtype('int32')"
      ]
     },
     "execution_count": 40,
     "metadata": {},
     "output_type": "execute_result"
    }
   ],
   "source": [
    "import pandas\n",
    " \n",
    "# import numpy\n",
    "import numpy\n",
    " \n",
    "# display data type\n",
    "print(df['Total_Stops'].dtype)\n",
    " \n",
    " \n",
    "# drop the NaN values\n",
    "df = df.dropna()\n",
    " \n",
    "# display\n",
    "print(df)\n",
    " \n",
    "# convert to integer type for marks column\n",
    "df['Total_Stops'] = df['Total_Stops'].astype(int)\n",
    " \n",
    "# display data type\n",
    "df['Total_Stops'].dtype"
   ]
  },
  {
   "cell_type": "markdown",
   "id": "53c12105",
   "metadata": {},
   "source": [
    "# changing data type of numerical columns from object to int"
   ]
  },
  {
   "cell_type": "code",
   "execution_count": 41,
   "id": "89ee5268",
   "metadata": {},
   "outputs": [],
   "source": [
    "df.Total_Stops = df.Total_Stops.astype('int64')\n",
    "df.Date = df.Date.astype('int64')\n",
    "df.Month = df.Month.astype('int64')\n",
    "df.Year = df.Year.astype('int64')\n",
    "df.Dep_Time_Hour = df.Dep_Time_Hour.astype('int64')\n",
    "df.Dep_Time_Min = df.Dep_Time_Min.astype('int64')\n",
    "df.Arrival_date = df.Arrival_date.astype('int64')\n",
    "df.Arrival_Time_Hour = df.Arrival_Time_Hour.astype('int64')\n",
    "df.Arrival_Time_Min = df.Arrival_Time_Min.astype('int64')\n",
    "df.Travel_hours = df.Travel_hours.astype('int64')\n",
    "df.Travel_mins = df.Travel_mins.astype('int64')"
   ]
  },
  {
   "cell_type": "code",
   "execution_count": 42,
   "id": "15e0a3b2",
   "metadata": {},
   "outputs": [
    {
     "data": {
      "text/html": [
       "<div>\n",
       "<style scoped>\n",
       "    .dataframe tbody tr th:only-of-type {\n",
       "        vertical-align: middle;\n",
       "    }\n",
       "\n",
       "    .dataframe tbody tr th {\n",
       "        vertical-align: top;\n",
       "    }\n",
       "\n",
       "    .dataframe thead th {\n",
       "        text-align: right;\n",
       "    }\n",
       "</style>\n",
       "<table border=\"1\" class=\"dataframe\">\n",
       "  <thead>\n",
       "    <tr style=\"text-align: right;\">\n",
       "      <th></th>\n",
       "      <th>Airline</th>\n",
       "      <th>Date_of_Journey</th>\n",
       "      <th>Source</th>\n",
       "      <th>Destination</th>\n",
       "      <th>Route</th>\n",
       "      <th>Dep_Time</th>\n",
       "      <th>Arrival_Time</th>\n",
       "      <th>Duration</th>\n",
       "      <th>Total_Stops</th>\n",
       "      <th>Additional_Info</th>\n",
       "      <th>...</th>\n",
       "      <th>City5</th>\n",
       "      <th>City6</th>\n",
       "      <th>Dep_Time_Hour</th>\n",
       "      <th>Dep_Time_Min</th>\n",
       "      <th>Arrival_date</th>\n",
       "      <th>Time_Of_Arrival</th>\n",
       "      <th>Arrival_Time_Hour</th>\n",
       "      <th>Arrival_Time_Min</th>\n",
       "      <th>Travel_hours</th>\n",
       "      <th>Travel_mins</th>\n",
       "    </tr>\n",
       "  </thead>\n",
       "  <tbody>\n",
       "  </tbody>\n",
       "</table>\n",
       "<p>0 rows × 28 columns</p>\n",
       "</div>"
      ],
      "text/plain": [
       "Empty DataFrame\n",
       "Columns: [Airline, Date_of_Journey, Source, Destination, Route, Dep_Time, Arrival_Time, Duration, Total_Stops, Additional_Info, Price, Date, Month, Year, City1, City2, City3, City4, City5, City6, Dep_Time_Hour, Dep_Time_Min, Arrival_date, Time_Of_Arrival, Arrival_Time_Hour, Arrival_Time_Min, Travel_hours, Travel_mins]\n",
       "Index: []\n",
       "\n",
       "[0 rows x 28 columns]"
      ]
     },
     "execution_count": 42,
     "metadata": {},
     "output_type": "execute_result"
    }
   ],
   "source": [
    "df[df['Travel_hours']=='5m']"
   ]
  },
  {
   "cell_type": "code",
   "execution_count": null,
   "id": "c0fc1d4e",
   "metadata": {},
   "outputs": [],
   "source": []
  },
  {
   "cell_type": "markdown",
   "id": "b608e2c5",
   "metadata": {},
   "source": [
    "# Creating list of different types of columns"
   ]
  },
  {
   "cell_type": "code",
   "execution_count": 44,
   "id": "0e3d068b",
   "metadata": {},
   "outputs": [],
   "source": [
    "categorical = ['Airline','Source','Destination','Additional_Info','City1','City2','City3']\n",
    "numerical = ['Total_Stops','Date','Month','Year','Dep_Time_Hour','Dep_Time_Min','Arrival_date',\n",
    "             'Arrival_Time_Hour','Arrival_Time_Min','Travel_hours','Travel_mins']"
   ]
  },
  {
   "cell_type": "markdown",
   "id": "84c71038",
   "metadata": {},
   "source": [
    "# plotting countplots for categorial data"
   ]
  },
  {
   "cell_type": "code",
   "execution_count": 45,
   "id": "2846a9dd",
   "metadata": {},
   "outputs": [],
   "source": [
    "import matplotlib.pyplot as plt"
   ]
  },
  {
   "cell_type": "code",
   "execution_count": 50,
   "id": "86f5aa5b",
   "metadata": {},
   "outputs": [
    {
     "data": {
      "image/png": "[encoded data removed]",
      "text/plain": [
       "<Figure size 2000x4500 with 7 Axes>"
      ]
     },
     "metadata": {},
     "output_type": "display_data"
    }
   ],
   "source": [
    "c = 1\n",
    "plt.figure(figsize=(20,45))\n",
    "\n",
    "for i in categorical:\n",
    "    plt.subplot(6,3,c)\n",
    "    sns.countplot(df[i])\n",
    "    plt.xticks(rotation = 90)\n",
    "    plt.tight_layout(pad = 3.0)\n",
    "    c=c+1\n",
    "plt.show()"
   ]
  },
  {
   "cell_type": "code",
   "execution_count": null,
   "id": "c393b2ec",
   "metadata": {},
   "outputs": [],
   "source": []
  },
  {
   "cell_type": "code",
   "execution_count": null,
   "id": "5d9aea1e",
   "metadata": {},
   "outputs": [],
   "source": []
  },
  {
   "cell_type": "code",
   "execution_count": null,
   "id": "b1c720f8",
   "metadata": {},
   "outputs": [],
   "source": []
  },
  {
   "cell_type": "code",
   "execution_count": null,
   "id": "adf42540",
   "metadata": {},
   "outputs": [],
   "source": []
  },
  {
   "cell_type": "code",
   "execution_count": null,
   "id": "c789b2a0",
   "metadata": {},
   "outputs": [],
   "source": []
  },
  {
   "cell_type": "code",
   "execution_count": null,
   "id": "0f962f42",
   "metadata": {},
   "outputs": [],
   "source": []
  },
  {
   "cell_type": "code",
   "execution_count": null,
   "id": "db2d7dde",
   "metadata": {},
   "outputs": [],
   "source": []
  },
  {
   "cell_type": "code",
   "execution_count": null,
   "id": "710ca35c",
   "metadata": {},
   "outputs": [],
   "source": []
  },
  {
   "cell_type": "code",
   "execution_count": null,
   "id": "e9d112a2",
   "metadata": {},
   "outputs": [],
   "source": []
  },
  {
   "cell_type": "code",
   "execution_count": null,
   "id": "464bddbb",
   "metadata": {},
   "outputs": [],
   "source": []
  },
  {
   "cell_type": "code",
   "execution_count": null,
   "id": "109e504e",
   "metadata": {},
   "outputs": [],
   "source": []
  },
  {
   "cell_type": "code",
   "execution_count": null,
   "id": "d1a6b097",
   "metadata": {},
   "outputs": [],
   "source": []
  },
  {
   "cell_type": "code",
   "execution_count": null,
   "id": "9f4fe983",
   "metadata": {},
   "outputs": [],
   "source": []
  },
  {
   "cell_type": "markdown",
   "id": "4ea49343",
   "metadata": {},
   "source": [
    "# Model Building Using LR"
   ]
  },
  {
   "cell_type": "code",
   "execution_count": null,
   "id": "aa1eae1e",
   "metadata": {},
   "outputs": [],
   "source": [
    "x = dataset['Duration']\n",
    "y = dataset['Price']"
   ]
  },
  {
   "cell_type": "code",
   "execution_count": null,
   "id": "450ff75a",
   "metadata": {},
   "outputs": [],
   "source": [
    "from sklearn.model_selection import train_test_split\n",
    "\n",
    "x_train, x_test, y_train, y_test = train_test_split(x, y,train_size = 0.7,  test_size = 0.3, random_state =100)"
   ]
  },
  {
   "cell_type": "code",
   "execution_count": null,
   "id": "9a8ec324",
   "metadata": {},
   "outputs": [],
   "source": [
    "dataset = dataset.astype({'Duration': float})\n"
   ]
  },
  {
   "cell_type": "code",
   "execution_count": null,
   "id": "ed3b2a12",
   "metadata": {},
   "outputs": [],
   "source": [
    "x_train.head()"
   ]
  },
  {
   "cell_type": "code",
   "execution_count": null,
   "id": "8d2824b3",
   "metadata": {},
   "outputs": [],
   "source": [
    "y_train.head()"
   ]
  },
  {
   "cell_type": "markdown",
   "id": "eb460e17",
   "metadata": {},
   "source": [
    "# Building a Linear Model (Add a constant to get an intercept & Ordinary Least Squares)"
   ]
  },
  {
   "cell_type": "code",
   "execution_count": null,
   "id": "69a17547",
   "metadata": {},
   "outputs": [],
   "source": [
    "import statsmodels.api as sm"
   ]
  },
  {
   "cell_type": "code",
   "execution_count": null,
   "id": "cf82237a",
   "metadata": {},
   "outputs": [],
   "source": [
    "dataset_array = dataset.to_numpy()\n",
    "print(dataset_array)"
   ]
  },
  {
   "cell_type": "code",
   "execution_count": null,
   "id": "a87f9cf3",
   "metadata": {},
   "outputs": [],
   "source": [
    "dataset = dataset.astype({'Airline': float})\n",
    "print(df.dtypes)"
   ]
  },
  {
   "cell_type": "markdown",
   "id": "5512ebad",
   "metadata": {},
   "source": [
    "# Extract the ticket prices"
   ]
  },
  {
   "cell_type": "code",
   "execution_count": null,
   "id": "b96afc72",
   "metadata": {},
   "outputs": [],
   "source": [
    "y = dataset['Price'].values"
   ]
  },
  {
   "cell_type": "markdown",
   "id": "ff51a36d",
   "metadata": {},
   "source": [
    "# Create a feature matrix"
   ]
  },
  {
   "cell_type": "code",
   "execution_count": null,
   "id": "1461570c",
   "metadata": {},
   "outputs": [],
   "source": [
    "X = dataset.index.values.reshape(-1, 1)\n"
   ]
  },
  {
   "cell_type": "markdown",
   "id": "1eddf01c",
   "metadata": {},
   "source": [
    "# Split the dataset into training and testing sets"
   ]
  },
  {
   "cell_type": "code",
   "execution_count": null,
   "id": "5898aedf",
   "metadata": {},
   "outputs": [],
   "source": [
    "from sklearn.model_selection import train_test_split\n",
    "X_train, X_test, y_train, y_test = train_test_split(X, y, test_size=0.2, random_state=42)"
   ]
  },
  {
   "cell_type": "markdown",
   "id": "bc0140c9",
   "metadata": {},
   "source": [
    "# Train the linear regression model"
   ]
  },
  {
   "cell_type": "code",
   "execution_count": null,
   "id": "388fe55a",
   "metadata": {},
   "outputs": [],
   "source": [
    "from sklearn.linear_model import LinearRegression\n",
    "model = LinearRegression()\n",
    "model.fit(X_train, y_train)\n"
   ]
  },
  {
   "cell_type": "markdown",
   "id": "e8190bcc",
   "metadata": {},
   "source": [
    "# Predict the ticket prices for the test set"
   ]
  },
  {
   "cell_type": "code",
   "execution_count": null,
   "id": "5f009923",
   "metadata": {},
   "outputs": [],
   "source": [
    "y_pred = model.predict(X_test)"
   ]
  },
  {
   "cell_type": "code",
   "execution_count": null,
   "id": "2d55082f",
   "metadata": {},
   "outputs": [],
   "source": [
    "from sklearn.metrics import mean_squared_error\n",
    "mse = mean_squared_error(y_test, y_pred)"
   ]
  },
  {
   "cell_type": "markdown",
   "id": "9bf0d87c",
   "metadata": {},
   "source": [
    "# Calculate the mean error"
   ]
  },
  {
   "cell_type": "code",
   "execution_count": null,
   "id": "d99e102c",
   "metadata": {},
   "outputs": [],
   "source": [
    "\n",
    "print('Mean squared error:', mse)"
   ]
  },
  {
   "cell_type": "code",
   "execution_count": null,
   "id": "93c5c8fa",
   "metadata": {},
   "outputs": [],
   "source": []
  }
 ],
 "metadata": {
  "kernelspec": {
   "display_name": "Python 3 (ipykernel)",
   "language": "python",
   "name": "python3"
  },
  "language_info": {
   "codemirror_mode": {
    "name": "ipython",
    "version": 3
   },
   "file_extension": ".py",
   "mimetype": "text/x-python",
   "name": "python",
   "nbconvert_exporter": "python",
   "pygments_lexer": "ipython3",
   "version": "3.9.13"
  },
  "widgets": {
   "application/vnd.jupyter.widget-state+json": {
    "state": {},
    "version_major": 2,
    "version_minor": 0
   }
  }
 },
 "nbformat": 4,
 "nbformat_minor": 5
}
